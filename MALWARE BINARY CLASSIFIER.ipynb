{
 "cells": [
  {
   "cell_type": "code",
   "execution_count": 8,
   "id": "spectacular-jacob",
   "metadata": {},
   "outputs": [],
   "source": [
    "import torch\n",
    "from utils import set_seed\n",
    "import os\n",
    "import pickle\n",
    "from sklearn.model_selection import train_test_split\n",
    "from torch.utils.data import DataLoader, Dataset, Subset\n",
    "from torch import nn\n",
    "from torch.nn import functional as F\n",
    "import random\n",
    "import matplotlib.pyplot as plt\n",
    "import numpy as np\n",
    "import pandas as pd\n",
    "import seaborn as sns\n",
    "from sklearn.metrics import auc, confusion_matrix, roc_curve\n",
    "from torch import optim\n",
    "from torch.nn.functional import sigmoid\n",
    "from tqdm.auto import tqdm\n",
    "from sklearn import metrics\n",
    "\n",
    "plt.rcParams.update(plt.rcParamsDefault)\n",
    "set_seed(42)\n",
    "device = torch.device(\"cpu\")\n",
    "\n",
    "import warnings\n",
    "warnings.filterwarnings('ignore')"
   ]
  },
  {
   "cell_type": "markdown",
   "id": "premier-snowboard",
   "metadata": {},
   "source": [
    "## Dataset"
   ]
  },
  {
   "cell_type": "code",
   "execution_count": 9,
   "id": "mental-failure",
   "metadata": {},
   "outputs": [],
   "source": [
    "class MalwareDataset(Dataset):\n",
    "    def __init__(self, benign_dir=\"data/benign\", malware_dir=\"data/malware\"):\n",
    "        self.benign_dir = benign_dir\n",
    "        self.malware_dir = malware_dir\n",
    "        self.benign_files = sorted(os.listdir(benign_dir))\n",
    "        self.malware_files = sorted(os.listdir(malware_dir))\n",
    "\n",
    "    def __getitem__(self, index):\n",
    "        try:\n",
    "            file_dir = os.path.join(self.benign_dir, self.benign_files[index])\n",
    "            label = 0.0\n",
    "        except IndexError:\n",
    "            file_dir = os.path.join(\n",
    "                self.malware_dir, self.malware_files[index - len(self.benign_files)],\n",
    "            )\n",
    "            label = 1.0\n",
    "\n",
    "        with open(file_dir, \"rb\") as f:\n",
    "            file_ = torch.tensor(pickle.load(f))\n",
    "        return file_, label\n",
    "\n",
    "    def __len__(self):\n",
    "        return len(self.benign_files) + len(self.malware_files)\n",
    "\n",
    "class UniLabelDataset(Dataset):\n",
    "    def __init__(self, data_dir, is_malware):\n",
    "        self.data_dir = data_dir\n",
    "        self.is_malware = is_malware\n",
    "        self.files = sorted(os.listdir(data_dir))\n",
    "\n",
    "    def __getitem__(self, index):\n",
    "        file_dir = os.path.join(self.data_dir, self.files[index])\n",
    "        with open(file_dir, \"rb\") as f:\n",
    "            file_ = torch.tensor(pickle.load(f))\n",
    "        return file_, float(self.is_malware)\n",
    "\n",
    "    def __len__(self):\n",
    "        return len(self.files)\n",
    "\n",
    "\n",
    "def collate_fn(batch):\n",
    "    xs = pad_sequence([x[0] for x in batch], max_len=4096, padding_value=256)\n",
    "    ys = torch.tensor([x[1] for x in batch])\n",
    "    return xs, ys\n",
    "\n",
    "\n",
    "def pad_sequence(sequences, max_len=None, padding_value=0):\n",
    "    batch_size = len(sequences)\n",
    "    if max_len is None:\n",
    "        max_len = max([s.size(0) for s in sequences])\n",
    "    out_tensor = sequences[0].new_full((batch_size, max_len), padding_value)\n",
    "    for i, tensor in enumerate(sequences):\n",
    "        length = tensor.size(0)\n",
    "        if max_len > length:\n",
    "            out_tensor[i, :length] = tensor\n",
    "        else:\n",
    "            out_tensor[i, :max_len] = tensor[:max_len]\n",
    "    return out_tensor\n",
    "\n",
    "\n",
    "def train_val_test_split(idx, val_size, test_size):\n",
    "    tv_idx, test_idx = train_test_split(idx, test_size=test_size, shuffle=True)\n",
    "    train_idx, val_idx = train_test_split(tv_idx, test_size=val_size, shuffle=True)\n",
    "    return train_idx, val_idx, test_idx\n",
    "\n",
    "\n",
    "def make_idx(dataset, val_size, test_size):\n",
    "    num_benign = len(dataset.benign_files)\n",
    "    num_malware = len(dataset.malware_files)\n",
    "    benign_idx = range(num_benign)\n",
    "    malware_idx = range(num_benign, num_benign + num_malware)\n",
    "    benign_train_idx, benign_val_idx, benign_test_idx = train_val_test_split(\n",
    "        benign_idx, val_size, test_size\n",
    "    )\n",
    "    malware_train_idx, malware_val_idx, malware_test_idx = train_val_test_split(\n",
    "        malware_idx, val_size, test_size\n",
    "    )\n",
    "    train_idx = benign_train_idx + malware_train_idx\n",
    "    val_idx = benign_val_idx + malware_val_idx\n",
    "    test_idx = benign_test_idx + malware_test_idx\n",
    "    return train_idx, val_idx, test_idx\n",
    "\n",
    "\n",
    "def make_loaders(batch_size, val_size, test_size):\n",
    "    dataset = MalwareDataset()\n",
    "    train_idx, val_idx, test_idx = make_idx(dataset, val_size, test_size)\n",
    "    train_dataset = Subset(dataset, indices=train_idx)\n",
    "    val_dataset = Subset(dataset, indices=val_idx)\n",
    "    test_dataset = Subset(dataset, indices=test_idx)\n",
    "    train_loader = make_loader(train_dataset, batch_size)\n",
    "    val_loader = make_loader(val_dataset, batch_size)\n",
    "    test_loader = make_loader(test_dataset, batch_size)\n",
    "    return train_loader, val_loader, test_loader\n",
    "\n",
    "\n",
    "def make_loader(dataset, batch_size):\n",
    "    return DataLoader(\n",
    "        dataset, batch_size=batch_size, collate_fn=collate_fn, shuffle=True\n",
    "    )"
   ]
  },
  {
   "cell_type": "markdown",
   "id": "german-holiday",
   "metadata": {},
   "source": [
    "## Models"
   ]
  },
  {
   "cell_type": "code",
   "execution_count": 10,
   "id": "secure-scout",
   "metadata": {},
   "outputs": [],
   "source": [
    "class MalConv(nn.Module):\n",
    "    def __init__(self, embed_dim, max_len, out_channels, window_size, dropout=0.5):\n",
    "        super(MalConv, self).__init__()\n",
    "        self.embed = nn.Embedding(257, embed_dim)\n",
    "        self.dropout = nn.Dropout(dropout)\n",
    "        self.conv = nn.Conv1d(\n",
    "            in_channels=embed_dim,\n",
    "            out_channels=out_channels * 2,\n",
    "            kernel_size=window_size,\n",
    "            stride=window_size,\n",
    "        )\n",
    "        self.fc = nn.Linear(out_channels, 1)\n",
    "\n",
    "    def forward(self, x):\n",
    "        embedding = self.dropout(self.embed(x))\n",
    "        conv_in = embedding.permute(0, 2, 1)\n",
    "        conv_out = self.conv(conv_in)\n",
    "        glu_out = F.glu(conv_out, dim=1)\n",
    "        values, _ = glu_out.max(dim=-1)\n",
    "        output = self.fc(values).squeeze(1)\n",
    "        return output\n",
    "    \n",
    "class Conv_RNN_Custom(nn.Module):\n",
    "    def __init__(\n",
    "        self,\n",
    "        embed_dim,\n",
    "        out_channels,\n",
    "        window_size,\n",
    "        module,\n",
    "        hidden_size,\n",
    "        num_layers,\n",
    "        bidirectional,\n",
    "        residual,\n",
    "        dropout=0.5,\n",
    "    ):\n",
    "        super(Conv_RNN_Custom, self).__init__()\n",
    "        assert module.__name__ in {\n",
    "            \"RNN\",\n",
    "            \"GRU\",\n",
    "            \"LSTM\",\n",
    "        }, \"`module` must be a `torch.nn` recurrent layer\"\n",
    "        self.residual = residual\n",
    "        self.embed = nn.Embedding(257, embed_dim)\n",
    "        self.conv = nn.Conv1d(\n",
    "            in_channels=embed_dim,\n",
    "            out_channels=out_channels,\n",
    "            kernel_size=window_size,\n",
    "            stride=window_size,\n",
    "        )\n",
    "        self.rnn = module(\n",
    "            input_size=out_channels,\n",
    "            hidden_size=hidden_size,\n",
    "            num_layers=num_layers,\n",
    "            bidirectional=bidirectional,\n",
    "        )\n",
    "        self.dropout = nn.Dropout(dropout)\n",
    "        rnn_out_size = (int(bidirectional) + 1) * hidden_size\n",
    "        if residual:\n",
    "            self.fc = nn.Linear(out_channels + rnn_out_size, 1)\n",
    "        else:\n",
    "            self.fc = nn.Linear(rnn_out_size, 1)\n",
    "\n",
    "    def forward(self, x):\n",
    "        embedding = self.dropout(self.embed(x))\n",
    "        conv_in = embedding.permute(0, 2, 1)\n",
    "        conv_out = self.conv(conv_in)\n",
    "        if self.residual:\n",
    "            values, _ = conv_out.max(dim=-1)\n",
    "        conv_out = conv_out.permute(2, 0, 1)\n",
    "        rnn_out, _ = self.rnn(conv_out)\n",
    "        fc_in = rnn_out[-1]\n",
    "        if self.residual:\n",
    "            fc_in = torch.cat((fc_in, values), dim=-1)\n",
    "        output = self.fc(fc_in).squeeze(1)\n",
    "        return output"
   ]
  },
  {
   "cell_type": "markdown",
   "id": "straight-theorem",
   "metadata": {},
   "source": [
    "## Utility Functions"
   ]
  },
  {
   "cell_type": "code",
   "execution_count": 11,
   "id": "comparative-funds",
   "metadata": {},
   "outputs": [],
   "source": [
    "def set_seed(seed):\n",
    "    random.seed(seed)\n",
    "    os.environ[\"PYTHONHASHSEED\"] = str(seed)\n",
    "    np.random.seed(seed)\n",
    "    torch.manual_seed(seed)\n",
    "    torch.backends.cudnn.deterministic = True\n",
    "    torch.backends.cudnn.benchmark = True\n",
    "\n",
    "    \n",
    "def count_params(model, trainable_only=True):\n",
    "    if trainable_only:\n",
    "        return sum(p.numel() for p in model.parameters() if p.requires_grad)\n",
    "    return sum(p.numel() for p in model.parameters())\n",
    "\n",
    "\n",
    "def plot_confusion_matrix(model, test_loader, save_title, device, normalize=\"all\"):\n",
    "    y_true, y_pred = predict(model, test_loader, device)\n",
    "    conf_mat = confusion_matrix(y_true, y_pred, normalize=normalize)\n",
    "    axis_labels = (\"Benign\", \"Malware\")\n",
    "    df = pd.DataFrame(conf_mat, index=axis_labels, columns=axis_labels)\n",
    "    plot = sns.heatmap(df, annot=True, cmap=\"Blues\")\n",
    "    plot.figure.savefig(os.path.join(\"imgs\", f\"{save_title}_conf_mat.png\"), dpi=300)\n",
    "    plt.close(plot.figure)\n",
    "\n",
    "\n",
    "def plot_roc_curve(models, test_loader, save_title, device):\n",
    "    fig, ax = plt.subplots()\n",
    "    ax.grid(linestyle=\"--\")\n",
    "    ax.set_xlabel(\"False Positive Rate\")\n",
    "    ax.set_ylabel(\"True Positive Rate\")\n",
    "    if isinstance(models, dict):\n",
    "        for label, model in models.items():\n",
    "            fpr, tpr, auc_score = _rates_auc(model, test_loader, device)\n",
    "            ax.plot(fpr, tpr, label=f\"{label} ({auc_score:.2f})\")\n",
    "    else:\n",
    "        fpr, tpr, auc_score = _rates_auc(models, test_loader, device)\n",
    "        ax.plot(fpr, tpr, label=f\"{save_title} ({auc_score:.2f})\")\n",
    "    ax.plot([0, 1], [0, 1], linestyle=\"--\", label=\"Chance (0.5)\")\n",
    "    ax.legend(loc=\"best\")\n",
    "    fig.savefig(os.path.join(\"imgs\", f\"{save_title}_roc.png\"), dpi=300)\n",
    "    plt.close(fig)\n",
    "\n",
    "\n",
    "def _rates_auc(model, test_loader, device):\n",
    "    y_true, y_pred = predict(model, test_loader, device, apply_sigmoid=True)\n",
    "    fpr, tpr, _ = metrics.roc_curve(y_true, y_pred)\n",
    "    auc_score = auc(fpr, tpr)\n",
    "    return fpr, tpr, auc_score\n",
    "\n",
    "\n",
    "@torch.no_grad()\n",
    "def predict(model, data_loader, device, apply_sigmoid=False, to_numpy=True):\n",
    "    model.eval()\n",
    "    y_true = []\n",
    "    y_pred = []\n",
    "    for inputs, labels in tqdm(data_loader, leave=False):\n",
    "        inputs = inputs.to(device)\n",
    "        outputs = model(inputs)\n",
    "        y_true.append(labels)\n",
    "        y_pred.append(outputs)\n",
    "    y_true = torch.cat(y_true).to(int)\n",
    "    if apply_sigmoid:\n",
    "        y_pred = sigmoid(torch.cat(y_pred))\n",
    "    else:\n",
    "        y_pred = (torch.cat(y_pred) > 0).to(int)\n",
    "    if to_numpy:\n",
    "        y_true = y_true.cpu().numpy()\n",
    "        y_pred = y_pred.cpu().numpy()\n",
    "    assert y_true.shape == y_pred.shape\n",
    "    model.train()\n",
    "    return y_true, y_pred\n",
    "\n",
    "\n",
    "def get_accuracy(model, data_loader, device):\n",
    "    y_true, y_pred = predict(model, data_loader, device, to_numpy=False)\n",
    "    return 100 * (y_true == y_pred).to(float).mean().item()\n",
    "\n",
    "\n",
    "def plot_train_history(train_loss_history, val_loss_history, save_title):\n",
    "    fig, ax = plt.subplots()\n",
    "    time_ = range(len(train_loss_history))\n",
    "    ax.set_xlabel(\"Epochs\")\n",
    "    ax.set_ylabel(\"BCE Loss\")\n",
    "    ax.grid(linestyle=\"--\")\n",
    "    ax.plot(time_, train_loss_history, color=\"blue\", label=\"train loss\")\n",
    "    ax.plot(time_, val_loss_history, color=\"red\", label=\"val loss\")\n",
    "    ax.legend(loc=\"best\")\n",
    "    fig.savefig(os.path.join(\"figures\", f\"{save_title}_train_history.png\"), dpi=300)\n",
    "    plt.close(fig)\n",
    "\n",
    "\n",
    "def train(\n",
    "    model,\n",
    "    train_loader,\n",
    "    val_loader,\n",
    "    device,\n",
    "    save_title,\n",
    "    lr=0.001,\n",
    "    patience=3,\n",
    "    num_epochs=5,\n",
    "    verbose=True,\n",
    "):\n",
    "    train_loss_history = []\n",
    "    val_loss_history = []\n",
    "    criterion = torch.nn.BCEWithLogitsLoss()\n",
    "    optimizer = optim.Adam(model.parameters(), lr=lr)\n",
    "    monitor = EarlyStopMonitor(patience)\n",
    "    scheduler = optim.lr_scheduler.ReduceLROnPlateau(\n",
    "        optimizer, factor=0.5, patience=patience\n",
    "    )\n",
    "    for epoch in range(1, num_epochs + 1):\n",
    "        model.train()\n",
    "        train_loss = run_epoch(model, train_loader, device, criterion, optimizer)\n",
    "        train_loss_history.append(train_loss)\n",
    "        model.eval()\n",
    "        with torch.no_grad():\n",
    "            val_loss = run_epoch(model, val_loader, device, criterion)\n",
    "        val_loss_history.append(val_loss)\n",
    "        if verbose:\n",
    "            tqdm.write(\n",
    "                f\"Epoch [{epoch}/{num_epochs}], \"\n",
    "                f\"Train Loss: {train_loss:.4f}, \"\n",
    "                f\"Val Loss: {val_loss:.4f}\"\n",
    "            )\n",
    "        scheduler.step(val_loss)\n",
    "        if monitor.step(val_loss):\n",
    "            break\n",
    "        if len(val_loss_history) == 1 or val_loss < val_loss_history[-2]:\n",
    "            torch.save(\n",
    "                model.state_dict(), os.path.join(\"checkpoints\", f\"{save_title}.pt\"),\n",
    "            )\n",
    "    plot_train_history(train_loss_history, val_loss_history, save_title)\n",
    "\n",
    "\n",
    "def run_epoch(model, data_loader, device, criterion, optimizer=None):\n",
    "    total_loss = 0\n",
    "    for inputs, labels in tqdm(data_loader, leave=False):\n",
    "        inputs = inputs.to(device)\n",
    "        labels = labels.to(device)\n",
    "        outputs = model(inputs)\n",
    "        loss = criterion(outputs, labels)\n",
    "        if optimizer:\n",
    "            optimizer.zero_grad()\n",
    "            loss.backward()\n",
    "            optimizer.step()\n",
    "        total_loss += loss.item()\n",
    "    return total_loss / len(data_loader)\n",
    "\n",
    "\n",
    "class EarlyStopMonitor:\n",
    "    def __init__(self, patience, mode=\"min\"):\n",
    "        assert mode in {\"min\", \"max\"}, \"`mode` must be one of 'min' or 'max'\"\n",
    "        self.log = []\n",
    "        self.mode = mode\n",
    "        self.count = 0\n",
    "        self.patience = patience\n",
    "\n",
    "    def step(self, metric):\n",
    "        if not self.log:\n",
    "            self.log.append(metric)\n",
    "            return False\n",
    "        flag = metric > self.log[-1]\n",
    "        if flag == (self.mode == \"min\"):\n",
    "            self.count += 1\n",
    "        else:\n",
    "            self.count = 0\n",
    "        self.log.append(metric)\n",
    "        return self.count > self.patience"
   ]
  },
  {
   "cell_type": "markdown",
   "id": "novel-couple",
   "metadata": {},
   "source": [
    "## Training"
   ]
  },
  {
   "cell_type": "code",
   "execution_count": 12,
   "id": "theoretical-marine",
   "metadata": {},
   "outputs": [],
   "source": [
    "batch_size = 64\n",
    "test_size = val_size = 0.2\n",
    "\n",
    "train_loader, val_loader, test_loader = make_loaders(batch_size, val_size, test_size)"
   ]
  },
  {
   "cell_type": "code",
   "execution_count": null,
   "id": "handmade-ancient",
   "metadata": {},
   "outputs": [],
   "source": [
    "malconv = MalConv(8, 4096, 128, 32).to(device)\n",
    "train(malconv, train_loader, val_loader, device, \"malconv\")\n",
    "torch.save(malconv.state_dict(), os.path.join(\"weights\", \"malconv.pt\"))"
   ]
  },
  {
   "cell_type": "code",
   "execution_count": null,
   "id": "conscious-sample",
   "metadata": {},
   "outputs": [],
   "source": [
    "gru_bi = Conv_RNN_Custom(8, 128, 32, torch.nn.GRU, 256, 1, True, False).to(device)\n",
    "train(gru_bi, train_loader, val_loader, device, \"gru_bi\")\n",
    "torch.save(gru_bi.state_dict(), os.path.join(\"weights\", \"gru_bi.pt\"))"
   ]
  },
  {
   "cell_type": "markdown",
   "id": "trained-killing",
   "metadata": {},
   "source": [
    "## Testing"
   ]
  },
  {
   "cell_type": "code",
   "execution_count": 6,
   "id": "solid-midwest",
   "metadata": {},
   "outputs": [
    {
     "data": {
      "application/vnd.jupyter.widget-view+json": {
       "model_id": "91517400e7c54f8fab2debdcc41f9162",
       "version_major": 2,
       "version_minor": 0
      },
      "text/plain": [
       "  0%|          | 0/114 [00:00<?, ?it/s]"
      ]
     },
     "metadata": {},
     "output_type": "display_data"
    },
    {
     "data": {
      "application/vnd.jupyter.widget-view+json": {
       "model_id": "4729be2165494da681a478cb74f6dcec",
       "version_major": 2,
       "version_minor": 0
      },
      "text/plain": [
       "  0%|          | 0/114 [00:00<?, ?it/s]"
      ]
     },
     "metadata": {},
     "output_type": "display_data"
    },
    {
     "data": {
      "application/vnd.jupyter.widget-view+json": {
       "model_id": "66f5281124d54e778d7f557bfb5b8167",
       "version_major": 2,
       "version_minor": 0
      },
      "text/plain": [
       "  0%|          | 0/365 [00:00<?, ?it/s]"
      ]
     },
     "metadata": {},
     "output_type": "display_data"
    },
    {
     "name": "stdout",
     "output_type": "stream",
     "text": [
      "Training accuracy : 98.00051488886982\n"
     ]
    },
    {
     "data": {
      "application/vnd.jupyter.widget-view+json": {
       "model_id": "79d0a7e41a5e4da4ac7fd19791861975",
       "version_major": 2,
       "version_minor": 0
      },
      "text/plain": [
       "  0%|          | 0/92 [00:00<?, ?it/s]"
      ]
     },
     "metadata": {},
     "output_type": "display_data"
    },
    {
     "name": "stdout",
     "output_type": "stream",
     "text": [
      "Validation accuracy : 97.99210571477605\n"
     ]
    },
    {
     "data": {
      "application/vnd.jupyter.widget-view+json": {
       "model_id": "8a2f189574504be0b3d01db08f41b3ae",
       "version_major": 2,
       "version_minor": 0
      },
      "text/plain": [
       "  0%|          | 0/114 [00:00<?, ?it/s]"
      ]
     },
     "metadata": {},
     "output_type": "display_data"
    },
    {
     "name": "stdout",
     "output_type": "stream",
     "text": [
      "Testing accuracy : 97.8448867536033\n"
     ]
    }
   ],
   "source": [
    "malconv = MalConv(8, 4096, 128, 32).to(device)\n",
    "PATH = os.path.join(\"weights\", \"malconv.pt\")\n",
    "malconv.load_state_dict(torch.load(PATH,  map_location=torch.device('cpu')))\n",
    "malconv.eval()\n",
    "plot_confusion_matrix(malconv, test_loader, \"malconv\", device)\n",
    "plot_roc_curve(malconv, test_loader, \"malconv\", device)\n",
    "print(f\"Training accuracy : {get_accuracy(malconv, train_loader, device)}\")\n",
    "print(f\"Validation accuracy : {get_accuracy(malconv, val_loader, device)}\")\n",
    "print(f\"Testing accuracy : {get_accuracy(malconv, test_loader, device)}\")"
   ]
  },
  {
   "cell_type": "code",
   "execution_count": 7,
   "id": "raised-identity",
   "metadata": {},
   "outputs": [
    {
     "data": {
      "application/vnd.jupyter.widget-view+json": {
       "model_id": "ccd662d23dad4db484e9868265cde127",
       "version_major": 2,
       "version_minor": 0
      },
      "text/plain": [
       "  0%|          | 0/114 [00:00<?, ?it/s]"
      ]
     },
     "metadata": {},
     "output_type": "display_data"
    },
    {
     "data": {
      "application/vnd.jupyter.widget-view+json": {
       "model_id": "f8a097c5b40b4f4aa3e28a968ea62beb",
       "version_major": 2,
       "version_minor": 0
      },
      "text/plain": [
       "  0%|          | 0/114 [00:00<?, ?it/s]"
      ]
     },
     "metadata": {},
     "output_type": "display_data"
    },
    {
     "data": {
      "application/vnd.jupyter.widget-view+json": {
       "model_id": "8ed7a70623024234b474a63b036f0095",
       "version_major": 2,
       "version_minor": 0
      },
      "text/plain": [
       "  0%|          | 0/365 [00:00<?, ?it/s]"
      ]
     },
     "metadata": {},
     "output_type": "display_data"
    },
    {
     "name": "stdout",
     "output_type": "stream",
     "text": [
      "Training accuracy : 98.30515747017935\n"
     ]
    },
    {
     "data": {
      "application/vnd.jupyter.widget-view+json": {
       "model_id": "001029819972451da8a40705601817ca",
       "version_major": 2,
       "version_minor": 0
      },
      "text/plain": [
       "  0%|          | 0/92 [00:00<?, ?it/s]"
      ]
     },
     "metadata": {},
     "output_type": "display_data"
    },
    {
     "name": "stdout",
     "output_type": "stream",
     "text": [
      "Validation accuracy : 98.16372061094903\n"
     ]
    },
    {
     "data": {
      "application/vnd.jupyter.widget-view+json": {
       "model_id": "e5577cdebcbe4cccad958fab92b3d712",
       "version_major": 2,
       "version_minor": 0
      },
      "text/plain": [
       "  0%|          | 0/114 [00:00<?, ?it/s]"
      ]
     },
     "metadata": {},
     "output_type": "display_data"
    },
    {
     "name": "stdout",
     "output_type": "stream",
     "text": [
      "Testing accuracy : 98.38023335621139\n"
     ]
    }
   ],
   "source": [
    "gru_bi = Conv_RNN_Custom(8, 128, 32, torch.nn.GRU, 256, 1, True, False).to(device)\n",
    "PATH = os.path.join(\"weights\", \"gru_bi.pt\")\n",
    "gru_bi.load_state_dict(torch.load(PATH,  map_location=torch.device('cpu')))\n",
    "gru_bi.eval()\n",
    "plot_confusion_matrix(gru_bi, test_loader, \"gru_bi\", device)\n",
    "plot_roc_curve(gru_bi, test_loader, \"gru_bi\", device)\n",
    "print(f\"Training accuracy : {get_accuracy(gru_bi, train_loader, device)}\")\n",
    "print(f\"Validation accuracy : {get_accuracy(gru_bi, val_loader, device)}\")\n",
    "print(f\"Testing accuracy : {get_accuracy(gru_bi, test_loader, device)}\")"
   ]
  }
 ],
 "metadata": {
  "kernelspec": {
   "display_name": "Python 3",
   "language": "python",
   "name": "python3"
  },
  "language_info": {
   "codemirror_mode": {
    "name": "ipython",
    "version": 3
   },
   "file_extension": ".py",
   "mimetype": "text/x-python",
   "name": "python",
   "nbconvert_exporter": "python",
   "pygments_lexer": "ipython3",
   "version": "3.8.7"
  }
 },
 "nbformat": 4,
 "nbformat_minor": 5
}
